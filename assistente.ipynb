{
 "cells": [
  {
   "cell_type": "markdown",
   "metadata": {},
   "source": [
    "# Como treinar o ChatGPT com seus dados"
   ]
  },
  {
   "cell_type": "markdown",
   "metadata": {},
   "source": [
    "### Objetivo\n",
    "\n",
    "Aproveitar do conteúdo já disponível no site da empresa para criar um assistente que possa responder questionamentos dos usuários e clientes.\n",
    "\n",
    "### Como\n",
    "\n",
    "Extração de dados textuais de um site através de web scrapping.\n",
    "\n",
    "Utilizando os texto do site vamos utilizar de embeddings para extrair o significado das palavras em um texto através da similaridade semântica.\n",
    "\n",
    "O embedding será utilizado como contexto para criar um Conhecimento Customizado ou Custom Knowledge ao \"ChatGPT\". Assim, o assistente irá responder perguntas com base no conhecimento específico que foi disponibilizado ao assistente.\n",
    "\n",
    "Disponibilizar uma interface onde o usuário pode fazer os questionamentos de forma simples"
   ]
  },
  {
   "cell_type": "markdown",
   "metadata": {},
   "source": [
    "### Primeiros passos\n",
    "\n",
    "Criar uma conta em:\n",
    "\n",
    "https://platform.openai.com/\n",
    "\n",
    "Criar uma nova API key em :\n",
    "\n",
    "https://platform.openai.com/account/api-keys\n",
    "\n",
    "Anotar essa chave gerada em algum lugar, ao fechar a janelas você não irá ter mais acesso, a menos que crie uma chave nova"
   ]
  },
  {
   "cell_type": "markdown",
   "metadata": {},
   "source": [
    "### Pacotes necessários"
   ]
  },
  {
   "cell_type": "code",
   "execution_count": 24,
   "metadata": {},
   "outputs": [],
   "source": [
    "# Gerais\n",
    "import pandas as pd\n",
    "import numpy as np\n",
    "import os\n",
    "import matplotlib.pyplot as plt\n",
    "\n",
    "\n",
    "# Scraping\n",
    "from bs4 import BeautifulSoup\n",
    "from collections import deque\n",
    "from html.parser import HTMLParser\n",
    "from urllib.parse import urlparse\n",
    "from selenium.webdriver import Chrome\n",
    "from selenium.webdriver.common.by import By\n",
    "from urllib.request import Request, urlopen\n",
    "\n",
    "# Interface\n",
    "import gradio as gr\n",
    "\n",
    "# Assistente\n",
    "import tiktoken\n",
    "import openai\n",
    "import time\n",
    "from openai.embeddings_utils import distances_from_embeddings, cosine_similarity"
   ]
  },
  {
   "cell_type": "markdown",
   "metadata": {},
   "source": [
    "### Web Scrapping"
   ]
  },
  {
   "cell_type": "code",
   "execution_count": 25,
   "metadata": {},
   "outputs": [],
   "source": [
    "urls = ['https://bixtecnologia.com.br/','https://bixtecnologia.com.br/sobre-nos/','https://bixtecnologia.com.br/engenharia-de-dados/',\n",
    "        'https://bixtecnologia.com.br/business-intelligence/','https://bixtecnologia.com.br/ciencia-de-dados/',\n",
    "        'https://bixtecnologia.com.br/sistemas/','https://bixtecnologia.com.br/transformacao-digital/',\n",
    "        'https://bixtecnologia.com.br/cursos-e-treinamentos/','https://bixtecnologia.com.br/licencas/',\n",
    "        'https://bixtecnologia.com.br/google-cloud/','https://bixtecnologia.com.br/databricks/',\n",
    "        'https://bixtecnologia.com.br/qliksense/', 'https://bixtecnologia.com.br/powerbi/','https://bixtecnologia.com.br/python/',\n",
    "        'https://bixtecnologia.com.br/trabalhe-conosco/','https://bixtecnologia.gupy.io/','https://bixtecnologia.com.br/blog/',\n",
    "        'https://www.semanadedados.com/','https://bixtecnologia.com.br/contato/']\n",
    "domain = \"bixtecnologia.com.br\"\n",
    "\n",
    "url = \"https://bixtecnologia.com.br/\""
   ]
  },
  {
   "cell_type": "markdown",
   "metadata": {},
   "source": [
    "*- Explicando o código*\n",
    "\n",
    "*A função get_text_from_url realiza o scraping do texto a partir da URL passada a função. é criado uma pasta com o nome do domínio e o texto extraido da URL é armazenado nessa pasta no formato txt.* \n",
    "\n",
    "*Uma fila é utilizada para armazenar URLs a serem processadas. Enquanto a fila não estiver vazia, a função retira a próxima URL da fila, abre um navegador web usando o driver do Chrome, acessa a página da URL e extrai o texto utilizando a biblioteca BeautifulSoup. O texto extraído é salvo em um arquivo de texto.*"
   ]
  },
  {
   "cell_type": "code",
   "execution_count": 3,
   "metadata": {},
   "outputs": [
    {
     "name": "stdout",
     "output_type": "stream",
     "text": [
      "bixtecnologia.com.br\n",
      "deque(['https://bixtecnologia.com.br/', 'https://bixtecnologia.com.br/sobre-nos/', 'https://bixtecnologia.com.br/engenharia-de-dados/', 'https://bixtecnologia.com.br/business-intelligence/', 'https://bixtecnologia.com.br/ciencia-de-dados/', 'https://bixtecnologia.com.br/sistemas/', 'https://bixtecnologia.com.br/transformacao-digital/', 'https://bixtecnologia.com.br/cursos-e-treinamentos/', 'https://bixtecnologia.com.br/licencas/', 'https://bixtecnologia.com.br/google-cloud/', 'https://bixtecnologia.com.br/databricks/', 'https://bixtecnologia.com.br/qliksense/', 'https://bixtecnologia.com.br/powerbi/', 'https://bixtecnologia.com.br/python/', 'https://bixtecnologia.com.br/trabalhe-conosco/', 'https://bixtecnologia.gupy.io/', 'https://bixtecnologia.com.br/blog/', 'https://www.semanadedados.com/', 'https://bixtecnologia.com.br/contato/'])\n",
      "Próxima url https://bixtecnologia.com.br/contato/\n"
     ]
    },
    {
     "name": "stderr",
     "output_type": "stream",
     "text": [
      "Error getting version of chromedriver 115. Retrying with chromedriver 114 (attempt 1/5)\n"
     ]
    },
    {
     "name": "stdout",
     "output_type": "stream",
     "text": [
      "Próxima url https://www.semanadedados.com/\n",
      "Próxima url https://bixtecnologia.com.br/blog/\n",
      "Próxima url https://bixtecnologia.gupy.io/\n",
      "Próxima url https://bixtecnologia.com.br/trabalhe-conosco/\n",
      "Próxima url https://bixtecnologia.com.br/python/\n",
      "Próxima url https://bixtecnologia.com.br/powerbi/\n",
      "Próxima url https://bixtecnologia.com.br/qliksense/\n",
      "Próxima url https://bixtecnologia.com.br/databricks/\n",
      "Próxima url https://bixtecnologia.com.br/google-cloud/\n",
      "Próxima url https://bixtecnologia.com.br/licencas/\n",
      "Próxima url https://bixtecnologia.com.br/cursos-e-treinamentos/\n",
      "Próxima url https://bixtecnologia.com.br/transformacao-digital/\n",
      "Próxima url https://bixtecnologia.com.br/sistemas/\n",
      "Próxima url https://bixtecnologia.com.br/ciencia-de-dados/\n",
      "Próxima url https://bixtecnologia.com.br/business-intelligence/\n",
      "Próxima url https://bixtecnologia.com.br/engenharia-de-dados/\n",
      "Próxima url https://bixtecnologia.com.br/sobre-nos/\n",
      "Próxima url https://bixtecnologia.com.br/\n"
     ]
    }
   ],
   "source": [
    "def get_text_from_url(url):\n",
    "    '''\n",
    "        Essa função recebe uma url e faz o scraping do texto da página\n",
    "        Retorna o texto da página e salva o texto em um arquivo <url>.txt\n",
    "    '''\n",
    "    \n",
    "    # Analisa a URL e pega o domínio\n",
    "    local_domain = urlparse(url).netloc\n",
    "    print(local_domain)\n",
    "\n",
    "    # Fila para armazenar as urls para fazer o scraping\n",
    "    fila = deque(urls)\n",
    "    print(fila)\n",
    "\n",
    "    # Criar um diretório para armazenar os arquivos de texto\n",
    "    if not os.path.exists(\"text/\"):\n",
    "            os.mkdir(\"text/\")\n",
    "\n",
    "    if not os.path.exists(\"text/\"+local_domain+\"/\"):\n",
    "            os.mkdir(\"text/\" + local_domain + \"/\")\n",
    "\n",
    "    # Create a directory to store the csv files\n",
    "    if not os.path.exists(\"processed\"):\n",
    "            os.mkdir(\"processed\")\n",
    "\n",
    "    # Enquanto a fila não estiver vazia, continue fazendo o scraping\n",
    "    while fila:\n",
    "        # Pega a próxima URL da fila\n",
    "        url = fila.pop()\n",
    "        print(\"Próxima url\",url) # Checa próxima url\n",
    "\n",
    "        # Salva o texto da url em um arquivo <url>.txt\n",
    "        with open('text/'+local_domain+'/'+url[8:].replace(\"/\", \"_\") + \".txt\", \"w\") as f:\n",
    "            driver = Chrome()\n",
    "            driver.get(url)\n",
    "            page_soup = BeautifulSoup(driver.page_source, 'html.parser')\n",
    "            text = page_soup.get_text()\n",
    "            f.write(text)\n",
    "\n",
    "        driver.close()\n",
    "get_text_from_url(url)\n"
   ]
  },
  {
   "cell_type": "markdown",
   "metadata": {},
   "source": [
    "### Pré processamento dos textos"
   ]
  },
  {
   "cell_type": "code",
   "execution_count": 26,
   "metadata": {},
   "outputs": [],
   "source": [
    "def remove_newlines(serie):\n",
    "    '''\n",
    "        Essa função recebe uma série e remove as quebras de linha\n",
    "    '''\n",
    "    serie = serie.str.replace('\\n', ' ')\n",
    "    serie = serie.str.replace('\\\\n', ' ')\n",
    "    serie = serie.str.replace('  ', ' ')\n",
    "    serie = serie.str.replace('  ', ' ')\n",
    "    return serie"
   ]
  },
  {
   "cell_type": "markdown",
   "metadata": {},
   "source": [
    "*- Explicando o código*\n",
    "\n",
    "*Neste trecho de código uma lista criada, todos os arquivos de texto presentes no diretório criado previamente são percorridos. Para cada arquivo, ele lê o conteúdo e realiza algumas manipulações no texto, como a remoção de determinadas palavras ou caracteres específicos.*\n",
    "\n",
    "*Em seguida, os textos processados são adicionados na lista texts. Em seguida, a lista texts é usada para criar um DataFrame com duas colunas: 'page_name' (que contém o nome do arquivo) e 'text' (que contém o texto processado). Por fim, o DataFrame é salvo em um arquivo CSV chamado 'scraped.csv' no diretório 'processed'.*"
   ]
  },
  {
   "cell_type": "code",
   "execution_count": 27,
   "metadata": {},
   "outputs": [
    {
     "name": "stderr",
     "output_type": "stream",
     "text": [
      "C:\\Users\\nicol\\AppData\\Local\\Temp\\ipykernel_11684\\2116715963.py:6: FutureWarning: The default value of regex will change from True to False in a future version.\n",
      "  serie = serie.str.replace('\\\\n', ' ')\n"
     ]
    },
    {
     "data": {
      "text/html": [
       "<div>\n",
       "<style scoped>\n",
       "    .dataframe tbody tr th:only-of-type {\n",
       "        vertical-align: middle;\n",
       "    }\n",
       "\n",
       "    .dataframe tbody tr th {\n",
       "        vertical-align: top;\n",
       "    }\n",
       "\n",
       "    .dataframe thead th {\n",
       "        text-align: right;\n",
       "    }\n",
       "</style>\n",
       "<table border=\"1\" class=\"dataframe\">\n",
       "  <thead>\n",
       "    <tr style=\"text-align: right;\">\n",
       "      <th></th>\n",
       "      <th>page_name</th>\n",
       "      <th>text</th>\n",
       "    </tr>\n",
       "  </thead>\n",
       "  <tbody>\n",
       "    <tr>\n",
       "      <th>0</th>\n",
       "      <td></td>\n",
       "      <td>.   BIX Tecnologia | Consultoria de Dados | B...</td>\n",
       "    </tr>\n",
       "    <tr>\n",
       "      <th>1</th>\n",
       "      <td>blog</td>\n",
       "      <td>blog .   Blog | BIX Tecnologia               ...</td>\n",
       "    </tr>\n",
       "    <tr>\n",
       "      <th>2</th>\n",
       "      <td>business intelligence</td>\n",
       "      <td>business intelligence .   Business Intelligen...</td>\n",
       "    </tr>\n",
       "    <tr>\n",
       "      <th>3</th>\n",
       "      <td>ciencia de dados</td>\n",
       "      <td>ciencia de dados .   Ciência de Dados | BIX T...</td>\n",
       "    </tr>\n",
       "    <tr>\n",
       "      <th>4</th>\n",
       "      <td>contato</td>\n",
       "      <td>contato .   Contato | BIX Tecnologia         ...</td>\n",
       "    </tr>\n",
       "  </tbody>\n",
       "</table>\n",
       "</div>"
      ],
      "text/plain": [
       "                 page_name                                               text\n",
       "0                            .   BIX Tecnologia | Consultoria de Dados | B...\n",
       "1                    blog    blog .   Blog | BIX Tecnologia               ...\n",
       "2   business intelligence    business intelligence .   Business Intelligen...\n",
       "3        ciencia de dados    ciencia de dados .   Ciência de Dados | BIX T...\n",
       "4                 contato    contato .   Contato | BIX Tecnologia         ..."
      ]
     },
     "execution_count": 27,
     "metadata": {},
     "output_type": "execute_result"
    }
   ],
   "source": [
    "# Criar uma lista para armazenar os arquivos de texto\n",
    "texts=[]\n",
    "# Obter todos os arquivos de texto no diretório de texto\n",
    "for file in os.listdir(\"text/\" + domain + \"/\"):\n",
    "    # Abra o arquivo e leia o texto\n",
    "    with open(\"text/\" + domain + \"/\" + file, \"r\") as f:\n",
    "        text = f.read()\n",
    "        # Omita as primeiras 20 linhas e as últimas 4 linhas e, em seguida, substitua  -, _, e #update com espaços.\n",
    "        texts.append((file[20:-4].replace('-',' ').replace('_', ' ').replace('#update',''), text))\n",
    "\n",
    "#Criar um Dataframe a partir da lista de textos\n",
    "df = pd.DataFrame(texts, columns = ['page_name', 'text'])\n",
    "\n",
    "# Defina a coluna de texto para ser o texto bruto com as novas linhas removidas\n",
    "df['text'] = df.page_name + \". \" + remove_newlines(df.text)\n",
    "df.to_csv('processed/scraped.csv')\n",
    "df.head()"
   ]
  },
  {
   "cell_type": "code",
   "execution_count": 28,
   "metadata": {},
   "outputs": [
    {
     "name": "stdout",
     "output_type": "stream",
     "text": [
      "Checando número de páginas extraidas e urls informadas \n",
      "\n",
      "Número de páginas 19\n",
      "\n",
      "Número de urls informadas 19\n"
     ]
    }
   ],
   "source": [
    "print(\"Checando número de páginas extraidas e urls informadas \\n\")\n",
    "print(\"Número de páginas\",df.shape[0])\n",
    "print(\"\\nNúmero de urls informadas\",len(urls))\n"
   ]
  },
  {
   "cell_type": "markdown",
   "metadata": {},
   "source": [
    "### Tokens"
   ]
  },
  {
   "cell_type": "markdown",
   "metadata": {},
   "source": [
    "A tokenização é a próxima etapa após salvar o texto bruto em um arquivo CSV. Esse processo divide o texto de entrada em tokens, decompondo as frases e palavras. Uma demonstração visual disso pode ser vista em nosso Tokenizer na documentação.\n",
    "\n",
    "Utilizado a biblioteca tiktoken, recomendada para trabalhar com o modelo \"ada-002\" da openAI."
   ]
  },
  {
   "cell_type": "markdown",
   "metadata": {},
   "source": [
    "*- Explicando o código*\n",
    "\n",
    "*O código carrega um tokenizer chamado \"cl100k_base\", que é recomendado para utilizar com o modelo \"ada-002\". Em seguida, ele lê um arquivo CSV chamado 'scraped.csv' em um DataFrame usando o pandas.*\n",
    "\n",
    "*Os dados do DataFrame são organizados em duas colunas chamadas 'title' e 'text'. O código, em seguida, tokeniza o texto na coluna 'text' usando o tokenizer carregado e salva a contagem de tokens em uma nova coluna chamada 'n_tokens'.*\n",
    "\n",
    "*É criado uma visualiação em forma de histograma para visualizar a distribuição do número de tokens por linha do DataFrame, o que pode ser útil para entender melhor o comprimento dos textos contidos na coluna 'text'.*"
   ]
  },
  {
   "cell_type": "code",
   "execution_count": 29,
   "metadata": {},
   "outputs": [
    {
     "data": {
      "text/plain": [
       "array([[<AxesSubplot: title={'center': 'n_tokens'}>]], dtype=object)"
      ]
     },
     "execution_count": 29,
     "metadata": {},
     "output_type": "execute_result"
    },
    {
     "data": {
      "image/png": "[encoded data removed]",
      "text/plain": [
       "<Figure size 640x480 with 1 Axes>"
      ]
     },
     "metadata": {},
     "output_type": "display_data"
    }
   ],
   "source": [
    "# Carregar o tokenizador cl100k_base que foi projetado para funcionar com o modelo ada-002\n",
    "tokenizer = tiktoken.get_encoding(\"cl100k_base\")\n",
    "\n",
    "df = pd.read_csv('processed/scraped.csv', index_col=0)\n",
    "df.columns = ['title', 'text']\n",
    "\n",
    "# Tokenize o texto e salve o número de tokens em uma nova coluna\n",
    "df['n_tokens'] = df.text.apply(lambda x: len(tokenizer.encode(x)))\n",
    "\n",
    "# Visualize a distribuição do número de tokens por linha usando um histograma\n",
    "df.hist(column='n_tokens')\n"
   ]
  },
  {
   "cell_type": "code",
   "execution_count": 30,
   "metadata": {},
   "outputs": [
    {
     "data": {
      "text/html": [
       "<div>\n",
       "<style scoped>\n",
       "    .dataframe tbody tr th:only-of-type {\n",
       "        vertical-align: middle;\n",
       "    }\n",
       "\n",
       "    .dataframe tbody tr th {\n",
       "        vertical-align: top;\n",
       "    }\n",
       "\n",
       "    .dataframe thead th {\n",
       "        text-align: right;\n",
       "    }\n",
       "</style>\n",
       "<table border=\"1\" class=\"dataframe\">\n",
       "  <thead>\n",
       "    <tr style=\"text-align: right;\">\n",
       "      <th></th>\n",
       "      <th>title</th>\n",
       "      <th>text</th>\n",
       "      <th>n_tokens</th>\n",
       "    </tr>\n",
       "  </thead>\n",
       "  <tbody>\n",
       "    <tr>\n",
       "      <th>0</th>\n",
       "      <td></td>\n",
       "      <td>.   BIX Tecnologia | Consultoria de Dados | B...</td>\n",
       "      <td>984</td>\n",
       "    </tr>\n",
       "    <tr>\n",
       "      <th>1</th>\n",
       "      <td>blog</td>\n",
       "      <td>blog .   Blog | BIX Tecnologia               ...</td>\n",
       "      <td>989</td>\n",
       "    </tr>\n",
       "    <tr>\n",
       "      <th>2</th>\n",
       "      <td>business intelligence</td>\n",
       "      <td>business intelligence .   Business Intelligen...</td>\n",
       "      <td>1269</td>\n",
       "    </tr>\n",
       "    <tr>\n",
       "      <th>3</th>\n",
       "      <td>ciencia de dados</td>\n",
       "      <td>ciencia de dados .   Ciência de Dados | BIX T...</td>\n",
       "      <td>1033</td>\n",
       "    </tr>\n",
       "    <tr>\n",
       "      <th>4</th>\n",
       "      <td>contato</td>\n",
       "      <td>contato .   Contato | BIX Tecnologia         ...</td>\n",
       "      <td>458</td>\n",
       "    </tr>\n",
       "  </tbody>\n",
       "</table>\n",
       "</div>"
      ],
      "text/plain": [
       "                     title                                               text  \\\n",
       "0                            .   BIX Tecnologia | Consultoria de Dados | B...   \n",
       "1                    blog    blog .   Blog | BIX Tecnologia               ...   \n",
       "2   business intelligence    business intelligence .   Business Intelligen...   \n",
       "3        ciencia de dados    ciencia de dados .   Ciência de Dados | BIX T...   \n",
       "4                 contato    contato .   Contato | BIX Tecnologia         ...   \n",
       "\n",
       "   n_tokens  \n",
       "0       984  \n",
       "1       989  \n",
       "2      1269  \n",
       "3      1033  \n",
       "4       458  "
      ]
     },
     "execution_count": 30,
     "metadata": {},
     "output_type": "execute_result"
    }
   ],
   "source": [
    "df.head()"
   ]
  },
  {
   "cell_type": "markdown",
   "metadata": {},
   "source": [
    "A API de embedding tem um limite para o número máximo de tokens de entrada. Mesmo não atingindo o limite vamos diminuir a quantidade de tokens que deve ser processado por requisição da API. Para ficar abaixo desse limite, o texto no arquivo CSV precisa ser dividido em partes que contenham o número máximo de tokens definidos.\n",
    "\n",
    "Como utilizamos uma API gratuíta limitamos o número de tokens bem abaixo do limite máximo"
   ]
  },
  {
   "cell_type": "markdown",
   "metadata": {},
   "source": [
    "*- Explicando o código*\n",
    "\n",
    "*Foi definido no código uma função chamada split_into_many, que recebe um texto e o divide em partes de um número máximo de tokens (dado pelo valor de max_tokens).*\n",
    "\n",
    "*Em seguida, ele percorre um DataFrame chamado df e para cada linha, verifica se o texto contido na coluna 'text' tem um número de tokens maior que o limite máximo. Se for o caso, o texto é dividido em partes menores usando a função split_into_many, e essas partes são adicionadas à lista shortened. Caso contrário, o texto é adicionado diretamente à lista shortened. O objetivo é garantir que nenhum texto tenha mais tokens do que o valor máximo definido, dividindo-o em partes menores, se necessário.*"
   ]
  },
  {
   "cell_type": "code",
   "execution_count": 31,
   "metadata": {},
   "outputs": [],
   "source": [
    "max_tokens = 500\n",
    "\n",
    "# Função para dividir o texto em partes de um número máximo de tokens\n",
    "def split_into_many(text, max_tokens = max_tokens):\n",
    "\n",
    "    # Dividir o texto em frases\n",
    "    sentences = text.split('. ')\n",
    "\n",
    "    # Obter o número de tokens para cada sentença\n",
    "    n_tokens = [len(tokenizer.encode(\" \" + sentence)) for sentence in sentences]\n",
    "    \n",
    "    chunks = []\n",
    "    tokens_so_far = 0\n",
    "    chunk = []\n",
    "\n",
    "    # Percorrer as sentenças e os tokens unidos em uma tupla\n",
    "    for sentence, token in zip(sentences, n_tokens):\n",
    "\n",
    "        # Se o número de tokens até o momento mais o número de tokens na frase atual for maior \n",
    "        # do que o número máximo de tokens, adicione o bloco à lista de blocos e redefina\n",
    "        # o bloco e os tokens até o momento\n",
    "        if tokens_so_far + token > max_tokens:\n",
    "            chunks.append(\". \".join(chunk) + \".\")\n",
    "            chunk = []\n",
    "            tokens_so_far = 0\n",
    "\n",
    "        # Se o número de tokens na frase atual for maior que o número máximo de \n",
    "        # tokens, vá para a próxima sentença\n",
    "        if token > max_tokens:\n",
    "            continue\n",
    "\n",
    "        # Caso contrário, adicione a frase ao bloco e adicione o número de tokens ao total\n",
    "        chunk.append(sentence)\n",
    "        tokens_so_far += token + 1\n",
    "\n",
    "    return chunks\n",
    "    \n",
    "\n",
    "shortened = []\n",
    "\n",
    "# Percorrer o dataframe\n",
    "for row in df.iterrows():\n",
    "\n",
    "    # Se o texto for None, vá para a próxima linha\n",
    "    if row[1]['text'] is None:\n",
    "        continue\n",
    "\n",
    "    # Se o número de tokens for maior que o número máximo de tokens, divida o texto em partes\n",
    "    if row[1]['n_tokens'] > max_tokens:\n",
    "        shortened += split_into_many(row[1]['text'])\n",
    "    \n",
    "    # Caso contrário, adicione o texto à lista de textos abreviados\n",
    "    else:\n",
    "        shortened.append( row[1]['text'] )"
   ]
  },
  {
   "cell_type": "code",
   "execution_count": 32,
   "metadata": {},
   "outputs": [
    {
     "data": {
      "text/plain": [
       "array([[<AxesSubplot: title={'center': 'n_tokens'}>]], dtype=object)"
      ]
     },
     "execution_count": 32,
     "metadata": {},
     "output_type": "execute_result"
    },
    {
     "data": {
      "image/png": "[encoded data removed]",
      "text/plain": [
       "<Figure size 640x480 with 1 Axes>"
      ]
     },
     "metadata": {},
     "output_type": "display_data"
    }
   ],
   "source": [
    "df = pd.DataFrame(shortened, columns = ['text'])\n",
    "df['n_tokens'] = df.text.apply(lambda x: len(tokenizer.encode(x)))\n",
    "df.hist(column='n_tokens')"
   ]
  },
  {
   "cell_type": "code",
   "execution_count": 33,
   "metadata": {},
   "outputs": [
    {
     "name": "stdout",
     "output_type": "stream",
     "text": [
      "Número total de tokens 15034\n"
     ]
    }
   ],
   "source": [
    "num_tot_tokens = df['n_tokens'].sum()\n",
    "print(\"Número total de tokens\",num_tot_tokens)"
   ]
  },
  {
   "cell_type": "code",
   "execution_count": 34,
   "metadata": {},
   "outputs": [
    {
     "data": {
      "text/html": [
       "<div>\n",
       "<style scoped>\n",
       "    .dataframe tbody tr th:only-of-type {\n",
       "        vertical-align: middle;\n",
       "    }\n",
       "\n",
       "    .dataframe tbody tr th {\n",
       "        vertical-align: top;\n",
       "    }\n",
       "\n",
       "    .dataframe thead th {\n",
       "        text-align: right;\n",
       "    }\n",
       "</style>\n",
       "<table border=\"1\" class=\"dataframe\">\n",
       "  <thead>\n",
       "    <tr style=\"text-align: right;\">\n",
       "      <th></th>\n",
       "      <th>text</th>\n",
       "      <th>n_tokens</th>\n",
       "    </tr>\n",
       "  </thead>\n",
       "  <tbody>\n",
       "    <tr>\n",
       "      <th>0</th>\n",
       "      <td>.   BIX Tecnologia | Consultoria de Dados | B...</td>\n",
       "      <td>476</td>\n",
       "    </tr>\n",
       "    <tr>\n",
       "      <th>1</th>\n",
       "      <td>Conte com um time completo para se...</td>\n",
       "      <td>444</td>\n",
       "    </tr>\n",
       "    <tr>\n",
       "      <th>2</th>\n",
       "      <td>blog .   Blog | BIX Tecnologia               ...</td>\n",
       "      <td>326</td>\n",
       "    </tr>\n",
       "    <tr>\n",
       "      <th>3</th>\n",
       "      <td>Nessa edição, Leia mais »   Desvendando as dif...</td>\n",
       "      <td>471</td>\n",
       "    </tr>\n",
       "    <tr>\n",
       "      <th>4</th>\n",
       "      <td>business intelligence .   Business Intelligen...</td>\n",
       "      <td>499</td>\n",
       "    </tr>\n",
       "  </tbody>\n",
       "</table>\n",
       "</div>"
      ],
      "text/plain": [
       "                                                text  n_tokens\n",
       "0   .   BIX Tecnologia | Consultoria de Dados | B...       476\n",
       "1              Conte com um time completo para se...       444\n",
       "2   blog .   Blog | BIX Tecnologia               ...       326\n",
       "3  Nessa edição, Leia mais »   Desvendando as dif...       471\n",
       "4   business intelligence .   Business Intelligen...       499"
      ]
     },
     "execution_count": 34,
     "metadata": {},
     "output_type": "execute_result"
    }
   ],
   "source": [
    "df.head()"
   ]
  },
  {
   "cell_type": "code",
   "execution_count": 35,
   "metadata": {},
   "outputs": [
    {
     "name": "stdout",
     "output_type": "stream",
     "text": [
      "Número de trechos de texto com no máximo 500 tokens : 33\n"
     ]
    }
   ],
   "source": [
    "i = 0\n",
    "for text in df['text']:\n",
    "    i+=1\n",
    "    \n",
    "print(\"Número de trechos de texto com no máximo\",max_tokens,\"tokens :\",i)"
   ]
  },
  {
   "cell_type": "markdown",
   "metadata": {},
   "source": [
    "### Embedding\n",
    "\n",
    "Estamos usando o \"text-embedding-ada-002\" por conta do preço e bom desempenho.\n",
    "\n",
    "https://openai.com/blog/new-and-improved-embedding-model\n",
    "\n",
    "Preço de requisição e uso da API $0.0001 cada 1,000 tokens"
   ]
  },
  {
   "cell_type": "markdown",
   "metadata": {},
   "source": [
    "Preço de treinamento do embedding"
   ]
  },
  {
   "cell_type": "code",
   "execution_count": 36,
   "metadata": {},
   "outputs": [
    {
     "name": "stdout",
     "output_type": "stream",
     "text": [
      "Custo total de treinamento do embedding: $ 0.0015034000000000002\n"
     ]
    }
   ],
   "source": [
    "print(\"Custo total de treinamento do embedding: $\",num_tot_tokens /1000 * 0.0001)"
   ]
  },
  {
   "cell_type": "markdown",
   "metadata": {},
   "source": [
    "*- Explicando o código*\n",
    "\n",
    "*Cria o embedding para nosso texto e armazenar em um arquivo csv.*\n",
    "*Os embeddings são armazenados em uma lista chamada embeddings, que é posteriormente adicionada ao DataFrame df em uma nova coluna chamada 'embeddings'. Por fim, o DataFrame modificado é salvo em um arquivo CSV chamado 'embeddings.csv' no diretório 'processed'.*"
   ]
  },
  {
   "cell_type": "code",
   "execution_count": 37,
   "metadata": {},
   "outputs": [],
   "source": [
    "def read_openai_api_key():\n",
    "    with open('openai_secret.txt', 'r') as file:\n",
    "        api_key = file.read().strip()\n",
    "    return api_key\n",
    "\n",
    "my_api_key = read_openai_api_key()"
   ]
  },
  {
   "cell_type": "markdown",
   "metadata": {},
   "source": [
    "Coloque sua chave da API do openAI em \"SUA_CHAVE_OPENAI\" ou crie um arquivo \"openai_secret.txt\" e coloque sua chave dentro."
   ]
  },
  {
   "cell_type": "code",
   "execution_count": 38,
   "metadata": {},
   "outputs": [],
   "source": [
    "# openai.api_key = \"SUA_CHAVE_OPENAI\"\n",
    "\n",
    "openai.api_key = read_openai_api_key()"
   ]
  },
  {
   "cell_type": "markdown",
   "metadata": {},
   "source": [
    "*- Explicando o código*\n",
    "\n",
    "*Este código realiza o embedding do texto usando o modelo \"text-embedding-ada-002\" da OpenAI. Ele itera sobre os textos contidos na coluna 'text' do DataFrame. Para cada texto, há uma pausa de 2 segundos, para evitar problemas de taxa de requisição da API, e, em seguida, tenta obter a incorporação chamando a API do modelo. Se ocorrer um erro de taxa limite (RateLimitError), ele aguarda 20 segundos antes de tentar novamente.* \n",
    "\n",
    "*Os embeddings são armazenados em uma lista e, no final, são adicionadas como uma nova coluna no DataFrame. O DataFrame é então salvo em um arquivo CSV chamado 'embeddings.csv'.*"
   ]
  },
  {
   "cell_type": "code",
   "execution_count": 20,
   "metadata": {},
   "outputs": [
    {
     "name": "stdout",
     "output_type": "stream",
     "text": [
      "0\n",
      "Fazendo embedding do texto\n",
      "1\n",
      "Fazendo embedding do texto\n",
      "2\n",
      "Fazendo embedding do texto\n",
      "3\n",
      "Rate limit error, esperando 20 segundo antes de tentar novamente\n",
      "embedding texto depois de esperar 20 segundos\n",
      "4\n",
      "Rate limit error, esperando 20 segundo antes de tentar novamente\n",
      "embedding texto depois de esperar 20 segundos\n",
      "5\n",
      "Rate limit error, esperando 20 segundo antes de tentar novamente\n",
      "embedding texto depois de esperar 20 segundos\n",
      "6\n",
      "Rate limit error, esperando 20 segundo antes de tentar novamente\n",
      "embedding texto depois de esperar 20 segundos\n",
      "7\n",
      "Rate limit error, esperando 20 segundo antes de tentar novamente\n",
      "embedding texto depois de esperar 20 segundos\n",
      "8\n",
      "Rate limit error, esperando 20 segundo antes de tentar novamente\n",
      "embedding texto depois de esperar 20 segundos\n",
      "9\n",
      "Fazendo embedding do texto\n",
      "10\n",
      "Rate limit error, esperando 20 segundo antes de tentar novamente\n",
      "embedding texto depois de esperar 20 segundos\n",
      "11\n",
      "Rate limit error, esperando 20 segundo antes de tentar novamente\n",
      "embedding texto depois de esperar 20 segundos\n",
      "12\n",
      "Rate limit error, esperando 20 segundo antes de tentar novamente\n",
      "embedding texto depois de esperar 20 segundos\n",
      "13\n",
      "Rate limit error, esperando 20 segundo antes de tentar novamente\n",
      "embedding texto depois de esperar 20 segundos\n",
      "14\n",
      "Rate limit error, esperando 20 segundo antes de tentar novamente\n",
      "embedding texto depois de esperar 20 segundos\n",
      "15\n",
      "Rate limit error, esperando 20 segundo antes de tentar novamente\n",
      "embedding texto depois de esperar 20 segundos\n",
      "16\n",
      "Rate limit error, esperando 20 segundo antes de tentar novamente\n",
      "embedding texto depois de esperar 20 segundos\n",
      "17\n",
      "Fazendo embedding do texto\n",
      "18\n",
      "Rate limit error, esperando 20 segundo antes de tentar novamente\n",
      "embedding texto depois de esperar 20 segundos\n",
      "19\n",
      "Rate limit error, esperando 20 segundo antes de tentar novamente\n",
      "embedding texto depois de esperar 20 segundos\n",
      "20\n",
      "Rate limit error, esperando 20 segundo antes de tentar novamente\n",
      "embedding texto depois de esperar 20 segundos\n",
      "21\n",
      "Rate limit error, esperando 20 segundo antes de tentar novamente\n",
      "embedding texto depois de esperar 20 segundos\n",
      "22\n",
      "Rate limit error, esperando 20 segundo antes de tentar novamente\n",
      "embedding texto depois de esperar 20 segundos\n",
      "23\n",
      "Rate limit error, esperando 20 segundo antes de tentar novamente\n",
      "embedding texto depois de esperar 20 segundos\n",
      "24\n",
      "Fazendo embedding do texto\n",
      "25\n",
      "Rate limit error, esperando 20 segundo antes de tentar novamente\n",
      "embedding texto depois de esperar 20 segundos\n",
      "26\n",
      "Rate limit error, esperando 20 segundo antes de tentar novamente\n",
      "embedding texto depois de esperar 20 segundos\n",
      "27\n",
      "Rate limit error, esperando 20 segundo antes de tentar novamente\n",
      "embedding texto depois de esperar 20 segundos\n",
      "28\n",
      "Rate limit error, esperando 20 segundo antes de tentar novamente\n",
      "embedding texto depois de esperar 20 segundos\n",
      "29\n",
      "Rate limit error, esperando 20 segundo antes de tentar novamente\n",
      "embedding texto depois de esperar 20 segundos\n",
      "30\n",
      "Rate limit error, esperando 20 segundo antes de tentar novamente\n",
      "embedding texto depois de esperar 20 segundos\n",
      "31\n",
      "Rate limit error, esperando 20 segundo antes de tentar novamente\n",
      "embedding texto depois de esperar 20 segundos\n",
      "32\n",
      "Fazendo embedding do texto\n"
     ]
    },
    {
     "data": {
      "text/html": [
       "<div>\n",
       "<style scoped>\n",
       "    .dataframe tbody tr th:only-of-type {\n",
       "        vertical-align: middle;\n",
       "    }\n",
       "\n",
       "    .dataframe tbody tr th {\n",
       "        vertical-align: top;\n",
       "    }\n",
       "\n",
       "    .dataframe thead th {\n",
       "        text-align: right;\n",
       "    }\n",
       "</style>\n",
       "<table border=\"1\" class=\"dataframe\">\n",
       "  <thead>\n",
       "    <tr style=\"text-align: right;\">\n",
       "      <th></th>\n",
       "      <th>text</th>\n",
       "      <th>n_tokens</th>\n",
       "      <th>embeddings</th>\n",
       "    </tr>\n",
       "  </thead>\n",
       "  <tbody>\n",
       "    <tr>\n",
       "      <th>0</th>\n",
       "      <td>.   BIX Tecnologia | Consultoria de Dados | B...</td>\n",
       "      <td>476</td>\n",
       "      <td>[-0.02229938842356205, 0.0022377429995685816, ...</td>\n",
       "    </tr>\n",
       "    <tr>\n",
       "      <th>1</th>\n",
       "      <td>Conte com um time completo para se...</td>\n",
       "      <td>444</td>\n",
       "      <td>[-0.007549031171947718, 0.016590233892202377, ...</td>\n",
       "    </tr>\n",
       "    <tr>\n",
       "      <th>2</th>\n",
       "      <td>blog .   Blog | BIX Tecnologia               ...</td>\n",
       "      <td>326</td>\n",
       "      <td>[-0.013212625868618488, 0.0003394204832147807,...</td>\n",
       "    </tr>\n",
       "    <tr>\n",
       "      <th>3</th>\n",
       "      <td>Nessa edição, Leia mais »   Desvendando as dif...</td>\n",
       "      <td>471</td>\n",
       "      <td>[-0.01131491269916296, 0.008576784282922745, 0...</td>\n",
       "    </tr>\n",
       "    <tr>\n",
       "      <th>4</th>\n",
       "      <td>business intelligence .   Business Intelligen...</td>\n",
       "      <td>499</td>\n",
       "      <td>[-0.024078745394945145, 0.0018577823648229241,...</td>\n",
       "    </tr>\n",
       "  </tbody>\n",
       "</table>\n",
       "</div>"
      ],
      "text/plain": [
       "                                                text  n_tokens  \\\n",
       "0   .   BIX Tecnologia | Consultoria de Dados | B...       476   \n",
       "1              Conte com um time completo para se...       444   \n",
       "2   blog .   Blog | BIX Tecnologia               ...       326   \n",
       "3  Nessa edição, Leia mais »   Desvendando as dif...       471   \n",
       "4   business intelligence .   Business Intelligen...       499   \n",
       "\n",
       "                                          embeddings  \n",
       "0  [-0.02229938842356205, 0.0022377429995685816, ...  \n",
       "1  [-0.007549031171947718, 0.016590233892202377, ...  \n",
       "2  [-0.013212625868618488, 0.0003394204832147807,...  \n",
       "3  [-0.01131491269916296, 0.008576784282922745, 0...  \n",
       "4  [-0.024078745394945145, 0.0018577823648229241,...  "
      ]
     },
     "execution_count": 20,
     "metadata": {},
     "output_type": "execute_result"
    }
   ],
   "source": [
    "i = 0\n",
    "embeddings = []\n",
    "for text in df['text']:\n",
    "    time.sleep(2)\n",
    "    print(i)\n",
    "    try:\n",
    "        embedding = openai.Embedding.create(input=text, engine='text-embedding-ada-002')['data'][0]['embedding']\n",
    "        print(\"Fazendo embedding do texto\")\n",
    "        embeddings.append(embedding)\n",
    "    except openai.error.RateLimitError:\n",
    "        print(\"Rate limit error, esperando 20 segundo antes de tentar novamente\")\n",
    "        time.sleep(20)  \n",
    "        embedding = openai.Embedding.create(input=text, engine='text-embedding-ada-002')['data'][0]['embedding']\n",
    "        print(\"embedding texto depois de esperar 20 segundos\")\n",
    "        embeddings.append(embedding)\n",
    "    i+=1\n",
    "\n",
    "df['embeddings'] = embeddings\n",
    "df.to_csv('processed/embeddings.csv')\n",
    "df.head()"
   ]
  },
  {
   "cell_type": "markdown",
   "metadata": {},
   "source": [
    "*- Explicando o código*\n",
    "\n",
    "*O código o arquivo CSV 'embeddings.csv' em um DataFrame. Em seguida, ele converte a coluna 'embeddings', que contém representações de texto em formato de string, para arrays NumPy. Para isso, a função eval é aplicada para transformar as strings em objetos Python, e em seguida, a função np.array é aplicada para convertê-las em arrays NumPy. Por fim, o código imprime as cinco primeiras linhas do DataFrame.*"
   ]
  },
  {
   "cell_type": "code",
   "execution_count": 39,
   "metadata": {},
   "outputs": [
    {
     "data": {
      "text/html": [
       "<div>\n",
       "<style scoped>\n",
       "    .dataframe tbody tr th:only-of-type {\n",
       "        vertical-align: middle;\n",
       "    }\n",
       "\n",
       "    .dataframe tbody tr th {\n",
       "        vertical-align: top;\n",
       "    }\n",
       "\n",
       "    .dataframe thead th {\n",
       "        text-align: right;\n",
       "    }\n",
       "</style>\n",
       "<table border=\"1\" class=\"dataframe\">\n",
       "  <thead>\n",
       "    <tr style=\"text-align: right;\">\n",
       "      <th></th>\n",
       "      <th>text</th>\n",
       "      <th>n_tokens</th>\n",
       "      <th>embeddings</th>\n",
       "    </tr>\n",
       "  </thead>\n",
       "  <tbody>\n",
       "    <tr>\n",
       "      <th>0</th>\n",
       "      <td>.   BIX Tecnologia | Consultoria de Dados | B...</td>\n",
       "      <td>476</td>\n",
       "      <td>[-0.02229938842356205, 0.0022377429995685816, ...</td>\n",
       "    </tr>\n",
       "    <tr>\n",
       "      <th>1</th>\n",
       "      <td>Conte com um time completo para se...</td>\n",
       "      <td>444</td>\n",
       "      <td>[-0.007549031171947718, 0.016590233892202377, ...</td>\n",
       "    </tr>\n",
       "    <tr>\n",
       "      <th>2</th>\n",
       "      <td>blog .   Blog | BIX Tecnologia               ...</td>\n",
       "      <td>326</td>\n",
       "      <td>[-0.013212625868618488, 0.0003394204832147807,...</td>\n",
       "    </tr>\n",
       "    <tr>\n",
       "      <th>3</th>\n",
       "      <td>Nessa edição, Leia mais »   Desvendando as dif...</td>\n",
       "      <td>471</td>\n",
       "      <td>[-0.01131491269916296, 0.008576784282922745, 0...</td>\n",
       "    </tr>\n",
       "    <tr>\n",
       "      <th>4</th>\n",
       "      <td>business intelligence .   Business Intelligen...</td>\n",
       "      <td>499</td>\n",
       "      <td>[-0.024078745394945145, 0.0018577823648229241,...</td>\n",
       "    </tr>\n",
       "  </tbody>\n",
       "</table>\n",
       "</div>"
      ],
      "text/plain": [
       "                                                text  n_tokens  \\\n",
       "0   .   BIX Tecnologia | Consultoria de Dados | B...       476   \n",
       "1              Conte com um time completo para se...       444   \n",
       "2   blog .   Blog | BIX Tecnologia               ...       326   \n",
       "3  Nessa edição, Leia mais »   Desvendando as dif...       471   \n",
       "4   business intelligence .   Business Intelligen...       499   \n",
       "\n",
       "                                          embeddings  \n",
       "0  [-0.02229938842356205, 0.0022377429995685816, ...  \n",
       "1  [-0.007549031171947718, 0.016590233892202377, ...  \n",
       "2  [-0.013212625868618488, 0.0003394204832147807,...  \n",
       "3  [-0.01131491269916296, 0.008576784282922745, 0...  \n",
       "4  [-0.024078745394945145, 0.0018577823648229241,...  "
      ]
     },
     "execution_count": 39,
     "metadata": {},
     "output_type": "execute_result"
    }
   ],
   "source": [
    "df=pd.read_csv('processed/embeddings.csv', index_col=0)\n",
    "df['embeddings'] = df['embeddings'].apply(eval).apply(np.array)\n",
    "\n",
    "df.head()"
   ]
  },
  {
   "cell_type": "markdown",
   "metadata": {},
   "source": [
    "*- Explicando o código*\n",
    "\n",
    "*A função chamada create_context, cria um contexto para uma pergunta específica usando uma estratégia de busca no DataFrame fornecido. A função recebe a pergunta, o DataFrame contendo os textos e os embeddings, e um comprimento máximo permitido. Primeiro, a função obtém os embeddings para a pergunta usando o modelo 'text-embedding-ada-002' da OpenAI. Em seguida, calcula as distâncias dos embeddings da pergunta em relação aos embeddings presentes no DataFrame. Em seguida, classifica o DataFrame com base nas distâncias e adiciona os textos ao contexto até que o tamanho máximo do contexto (em número de tokens) seja atingido. O contexto é retornado como uma string."
   ]
  },
  {
   "cell_type": "code",
   "execution_count": 40,
   "metadata": {},
   "outputs": [],
   "source": [
    "def create_context(question, df, max_len=1800, size=\"ada\"):\n",
    "    \"\"\"\n",
    "    Cria um contexto para uma pergunta encontrando o contexto mais similar no conjunto de embeddings gerado utilizando o Custom Knowledge.\n",
    "    \"\"\"\n",
    "\n",
    "    # Obter a embeddings para a pergunta que foi feita\n",
    "    q_embeddings = openai.Embedding.create(input=question, engine='text-embedding-ada-002')['data'][0]['embedding']\n",
    "\n",
    "    # Obter as distâncias a partir dos embeddings\n",
    "    df['distances'] = distances_from_embeddings(q_embeddings, df['embeddings'].values, distance_metric='cosine')\n",
    "\n",
    "\n",
    "    returns = []\n",
    "    cur_len = 0\n",
    "\n",
    "    # Classifique por distância e adicione o texto ao contexto\n",
    "    for i, row in df.sort_values('distances', ascending=True).iterrows():\n",
    "        \n",
    "        # Adicionar o comprimento do texto ao comprimento atual\n",
    "        cur_len += row['n_tokens'] + 4\n",
    "        \n",
    "        # Se o contexto for muito longo, quebre\n",
    "        if cur_len > max_len:\n",
    "            break\n",
    "        \n",
    "        # Caso contrário, adicione-o ao texto que está sendo retornado\n",
    "        returns.append(row[\"text\"])\n",
    "\n",
    "    # Retornar o contexto\n",
    "    return \"\\n\\n###\\n\\n\".join(returns)\n"
   ]
  },
  {
   "cell_type": "markdown",
   "metadata": {},
   "source": [
    "*- Explicando o código*\n",
    "\n",
    "*A função answer_question que recebe alguns parâmetros, como um DataFrame, um modelo de linguagem do OpenAI especificado pelo nome model, uma pergunta de entrada, um comprimento máximo para o contexto, um tamanho para o modelo, entre outros.*\n",
    "\n",
    "*A função cria um contexto relevante para a pergunta usando a função create_context, explicada previamente, e, em seguida, envia a pergunta e o contexto para a API do OpenAI para obter uma resposta usando a função openai.Completion.create(). A resposta obtida é retornada, mas se ocorrer algum erro durante a chamada da API, o código imprime o erro e não retorna nada.*\n",
    "\n",
    "*Se a pergunta realizada pelo usuário não estiver dentro do contexto passado a API ou do Conhecimento Customizado, na qual, a API foi adequada, o Assistente deve responder \"Eu não sei responder isso\"*"
   ]
  },
  {
   "cell_type": "code",
   "execution_count": 41,
   "metadata": {},
   "outputs": [],
   "source": [
    "def answer_question(\n",
    "                    df=df,\n",
    "                    model=\"text-davinci-003\",\n",
    "                    question=\"O que é a bix tecnologia?\",\n",
    "                    max_len=1800,\n",
    "                    size=\"ada\",\n",
    "                    debug=False,\n",
    "                    max_tokens=150,\n",
    "                    stop_sequence=None):\n",
    "    \"\"\"\n",
    "    Responder a uma pergunta com base no contexto mais semelhante dos textos do dataframe\n",
    "    \"\"\"\n",
    "    context = create_context(\n",
    "        question,\n",
    "        df=df,\n",
    "        max_len=max_len,\n",
    "        size=size,\n",
    "    )\n",
    "    if debug:\n",
    "        print(\"Context:\\n\" + context)\n",
    "        print(\"\\n\\n\")\n",
    "\n",
    "    try:\n",
    "        # Criar uma conclusão usando a pergunta e o contexto\n",
    "        response = openai.Completion.create(\n",
    "            prompt=f\"Responda as perguntas com base no contexto abaixo, e se a pergunta não puder ser respondida diga \\\"Eu não sei responder isso\\\"\\n\\Contexto: {context}\\n\\n---\\n\\nPergunta: {question}\\nResposta:\",\n",
    "            temperature=0,\n",
    "            max_tokens=max_tokens,\n",
    "            top_p=1,\n",
    "            frequency_penalty=0,\n",
    "            presence_penalty=0,\n",
    "            stop=stop_sequence,\n",
    "            model=model,\n",
    "        )\n",
    "        return response[\"choices\"][0][\"text\"].strip()\n",
    "    except Exception as e:\n",
    "        print(e)\n",
    "    #     retornar \"\""
   ]
  },
  {
   "cell_type": "markdown",
   "metadata": {},
   "source": [
    "#### Exemplos de questionamentos\n",
    "\n",
    "\"Quero fazer um projeto de previsão utilizando dados históricos, vocês conseguem me ajudar?\"\n"
   ]
  },
  {
   "cell_type": "code",
   "execution_count": 16,
   "metadata": {},
   "outputs": [
    {
     "data": {
      "text/plain": [
       "'BIX Tecnologia é uma consultoria de dados com foco em negócios e na conquista de resultados. Utilizamos as principais ferramentas e tecnologias do mercado no desenvolvimento de projetos que ajudam os nossos clientes a extrair o máximo de valor de seus dados e se transformar digitalmente.'"
      ]
     },
     "execution_count": 16,
     "metadata": {},
     "output_type": "execute_result"
    }
   ],
   "source": [
    "answer_question(question=\"O que é bix tecnologia?\", debug=False)"
   ]
  },
  {
   "cell_type": "code",
   "execution_count": null,
   "metadata": {},
   "outputs": [
    {
     "data": {
      "text/plain": [
       "'Eu não sei responder isso.'"
      ]
     },
     "execution_count": 42,
     "metadata": {},
     "output_type": "execute_result"
    }
   ],
   "source": [
    "answer_question(df, question=\"Quero prever o dia de amanha, voces podem me ajudar?\")"
   ]
  },
  {
   "cell_type": "code",
   "execution_count": 42,
   "metadata": {},
   "outputs": [
    {
     "data": {
      "text/plain": [
       "'(48) 99659 5490'"
      ]
     },
     "execution_count": 42,
     "metadata": {},
     "output_type": "execute_result"
    }
   ],
   "source": [
    "answer_question(df, question=\"Qual telefone da bix?\")"
   ]
  },
  {
   "cell_type": "code",
   "execution_count": null,
   "metadata": {},
   "outputs": [
    {
     "data": {
      "text/plain": [
       "'Desenvolvedor Fullstack Pleno (PJ) - 100% Remoto, Engenheira(o) de Dados Pleno (PJ) 100% Remoto e Estágio Comercial 100% Remoto.'"
      ]
     },
     "execution_count": 15,
     "metadata": {},
     "output_type": "execute_result"
    }
   ],
   "source": [
    "answer_question(df, question=\"Quais vagas de trabalho estão abertas?\")"
   ]
  },
  {
   "cell_type": "code",
   "execution_count": null,
   "metadata": {},
   "outputs": [
    {
     "data": {
      "text/plain": [
       "'A BIX Tecnologia foi fundada na cidade de Florianópolis, em 2014.'"
      ]
     },
     "execution_count": 45,
     "metadata": {},
     "output_type": "execute_result"
    }
   ],
   "source": [
    "answer_question(df, question=\"Onde fica a bix?\")"
   ]
  },
  {
   "cell_type": "markdown",
   "metadata": {},
   "source": [
    "### Contruindo uma interface para interagir com o Assistente em forma de conversa\n",
    "\n",
    "Será gerado uma URL, CTRL + click, para abrir no navegador"
   ]
  },
  {
   "cell_type": "code",
   "execution_count": 43,
   "metadata": {},
   "outputs": [],
   "source": [
    "def chatgpt_clone(input, history):\n",
    "    history= history or []\n",
    "    s = list(sum(history, ()))\n",
    "    s.append(input)\n",
    "    inp = ' '.join(s)\n",
    "    output=answer_question(question = inp)\n",
    "    history.append((input, output))\n",
    "    return history, history"
   ]
  },
  {
   "cell_type": "code",
   "execution_count": 44,
   "metadata": {},
   "outputs": [
    {
     "name": "stdout",
     "output_type": "stream",
     "text": [
      "Running on local URL:  http://127.0.0.1:7860\n",
      "\n",
      "To create a public link, set `share=True` in `launch()`.\n"
     ]
    },
    {
     "data": {
      "text/html": [
       "<div><iframe src=\"http://127.0.0.1:7860/\" width=\"100%\" height=\"500\" allow=\"autoplay; camera; microphone; clipboard-read; clipboard-write;\" frameborder=\"0\" allowfullscreen></iframe></div>"
      ],
      "text/plain": [
       "<IPython.core.display.HTML object>"
      ]
     },
     "metadata": {},
     "output_type": "display_data"
    }
   ],
   "source": [
    "with gr.Blocks(theme=gr.themes.Soft(),css=\".gradio-container {background-color: lightsteelblue}\") as block:\n",
    "    with gr.Row():\n",
    "        img1 = gr.Image(\"images/BIX_branding-9.png\",show_label=False, width=100, height=100)\n",
    "        img2 = gr.Image(\"images/Logo Azul_Vertical.png\",show_label=False, width=100, height=100)\n",
    "    gr.Markdown(\"\"\"<h1><center> Assistente da Bix Tecnologia</center></h1>\"\"\")\n",
    "    chatbot=gr.Chatbot(label=\"Conversa\")\n",
    "    message=gr.Textbox(label=\"Faça sua pergunta\",placeholder=\"O que você gostaria de saber sobre a Bix Tecnologia?\")\n",
    "    state = gr.State()\n",
    "    submit = gr.Button(\"Perguntar\")\n",
    "    submit.click(chatgpt_clone, inputs=[message, state], outputs=[chatbot, state])\n",
    "\n",
    "block.launch(debug=True)"
   ]
  },
  {
   "cell_type": "code",
   "execution_count": null,
   "metadata": {},
   "outputs": [],
   "source": []
  }
 ],
 "metadata": {
  "kernelspec": {
   "display_name": "env",
   "language": "python",
   "name": "python3"
  },
  "language_info": {
   "codemirror_mode": {
    "name": "ipython",
    "version": 3
   },
   "file_extension": ".py",
   "mimetype": "text/x-python",
   "name": "python",
   "nbconvert_exporter": "python",
   "pygments_lexer": "ipython3",
   "version": "3.11.4"
  },
  "orig_nbformat": 4,
  "vscode": {
   "interpreter": {
    "hash": "05f34a34d73b71652304030c1097be3a5720ea2447153dd6542d145a26b73181"
   }
  }
 },
 "nbformat": 4,
 "nbformat_minor": 2
}
